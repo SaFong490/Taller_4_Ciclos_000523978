{
  "cells": [
    {
      "cell_type": "markdown",
      "metadata": {
        "id": "view-in-github",
        "colab_type": "text"
      },
      "source": [
        "<a href=\"https://colab.research.google.com/github/SaFong490/Taller_4_Ciclos_000523978/blob/main/Taller_4_Ciclos.ipynb\" target=\"_parent\"><img src=\"https://colab.research.google.com/assets/colab-badge.svg\" alt=\"Open In Colab\"/></a>"
      ]
    },
    {
      "cell_type": "markdown",
      "id": "66beb5a1",
      "metadata": {
        "id": "66beb5a1"
      },
      "source": [
        "# Fundamentos de Programación para Ingeniería Mecánica\n",
        "## UPB Montería - 202310\n",
        "### Taller 4: Ciclos\n",
        "- Docente: Miguel Ortiz (miguel.ortizp@upb.edu.co)"
      ]
    },
    {
      "cell_type": "markdown",
      "id": "b4381f55",
      "metadata": {
        "id": "b4381f55"
      },
      "source": [
        "Datos del Estudiante:\n",
        "- Nombre: Samuel David Fong Ramos\n",
        "- ID: 000523978\n",
        "- email: samuel.fong@upb.edu.co"
      ]
    },
    {
      "cell_type": "markdown",
      "id": "433f35a0",
      "metadata": {
        "id": "433f35a0"
      },
      "source": [
        "Resuelva los siguientes ejercicios utilizando estructuras cíclicas y condicionales."
      ]
    },
    {
      "cell_type": "markdown",
      "id": "aead929b",
      "metadata": {
        "id": "aead929b"
      },
      "source": [
        "### Problema 1: Suma de Elementos (30xp)\n",
        "\n",
        "Indique cuál de los dos números ingresados por el usuario tiene una suma de dígitos mayor y la diferencia de estas sumas. Si las sumas de los dígitos son iguales, infórmelo al usuario. \n",
        "\n",
        "**Ejemplo:**\n",
        "\n",
        "```\n",
        "Ingrese el primer número: 23672646\n",
        "Ingrese el segundo número: 12653686\n",
        "La suma de los elementos de la lista 2 es mayor que la suma de los elementos de la lista 1 en 1 unidades.\n",
        "```\n",
        "\n",
        "**Recomendación:** pruebe su algoritmo con listas de prueba:\n",
        "- `lst_1`: lista que representa el primer número. Por ejemplo: dígitos del número de su documento de identidad\n",
        "- `lst_2`: lista que representa el segundo número. Por ejemplo: dígitos del número de su id\n",
        "\n",
        "**Nota:** para leer un número ingresado por el usuario y convertirlo en lista puede utilizar las siguientes instrucciones:\n",
        "\n",
        "```python\n",
        "num = input('Número: ')\n",
        "lst = [int(x) for x in num]\n",
        "```"
      ]
    },
    {
      "cell_type": "code",
      "execution_count": null,
      "id": "46b47e9b",
      "metadata": {
        "colab": {
          "base_uri": "https://localhost:8080/"
        },
        "id": "46b47e9b",
        "outputId": "f83e6796-f0e3-4655-a7de-4e5b0068d790"
      },
      "outputs": [
        {
          "output_type": "stream",
          "name": "stdout",
          "text": [
            "Ingrese el primer número: 12\n",
            "Ingrese el segundo número: 21\n",
            "[1, 2]\n",
            "[2, 1]\n",
            "La suma de los dos dígitos son iguales\n"
          ]
        }
      ],
      "source": [
        "#Se comienza solicitando al usuario ingresar los 2 números:\n",
        "num=(input(\"Ingrese el primer número: \"))\n",
        "num2=(input(\"Ingrese el segundo número: \"))\n",
        "#Luego, se convierten los 2 números en una lista compuesta por cada uno de sus dígitos:\n",
        "lst = [int(x) for x in num]\n",
        "print(lst)\n",
        "lst2 = [int(x) for x in num2]\n",
        "print(lst2)\n",
        "#Se asigna el valor inicial de la suma de los dígitos de cada lista:\n",
        "suma1 = 0\n",
        "suma2 = 0\n",
        "#Se utiliza la estructura repetitiva \"for\" para realizar la suma de os dígitos de los números:\n",
        "for a in lst:\n",
        "  suma1 += a\n",
        "for b in lst2:\n",
        "  suma2 += b\n",
        "#Finalmente, se utilizan los condicionales if, elif y else para expresar el resultado solicitado por el ejercicio:\n",
        "if suma1 > suma2:\n",
        "  resta1= suma1 - suma2\n",
        "  print(\"El número cuya suma de dígitos es mayor es:\", num, \"perteneciente a la lista:\", lst, \"cuyo valor es:\", suma1, \"con una diferencia de:\", resta1, \"unidades con respecto al otro número\")\n",
        "elif suma2 > suma1:\n",
        "  resta2= suma2 - suma1\n",
        "  print(\"El número cuya suma de dígitos es mayor es:\", num2, \"perteneciente a la lista:\", lst2, \"cuyo valor es:\", suma2, \"con una diferencia de:\", resta2 , \"unidades con respecto al otro número\")\n",
        "elif suma1 == suma2:\n",
        "  print(\"La suma de los dos dígitos son iguales\")\n",
        "else:\n",
        "  print(\"error\")"
      ]
    },
    {
      "cell_type": "markdown",
      "id": "986a4945",
      "metadata": {
        "id": "986a4945"
      },
      "source": [
        "### Problema 2: Suma Objetivo (50xp)\n",
        "\n",
        "Indique si la suma de los dígitos de un número de verificación alcanza un valor objetivo. Si obtiene el valor objetivo antes de finalizar el recorrido por todos los dígitos del número, indique la iteración en la que se obtuvo este valor. Tenga en cuenta que tanto el valor objetivo como el número de verificación son ingresados por el usuario. En cualquiera de los casos, muestre el resultado obtenido de la suma de los dígitos.\n",
        "\n",
        "**Ejemplo:**\n",
        "```\n",
        "Ingrese número de suma objetivo: 15\n",
        "Ingrese número para validar suma de dígitos: 1234562\n",
        "Suma obtenida en iteración 5 de 7\n",
        "Resultado obtenido: 15\n",
        "Alcanzó el valor objetivo.\n",
        "```\n",
        "\n",
        "**Recomendación:** pruebe su algoritmo con números y listas de prueba:\n",
        "- `n_obj`: valor objetivo\n",
        "- `lst`: lista que representa el número de verificación. Por ejemplo: dígitos del número de su id\n",
        "\n",
        "**Nota:** para leer un número ingresado por el usuario y convertirlo en lista puede utilizar las siguientes instrucciones:\n",
        "\n",
        "```python\n",
        "num = input('Número: ')\n",
        "lst = [int(x) for x in num]\n",
        "```"
      ]
    },
    {
      "cell_type": "code",
      "source": [
        "#Primero se le solicita al usuario igresar un número y el valor objetivo de la suma:\n",
        "num = input(\"Por favor ingrese un número: \")\n",
        "n_obj = int(input(\"Ingrese el valor objetivo que desee: \"))\n",
        "\n",
        "lst = [int(x) for x in num]\n",
        "# Inicializamos la suma de los dígitos en cero y la iteración de estos en uno, así:\n",
        "suma = 0\n",
        "itr = 1\n",
        "\n",
        "#Se utiliza el comando for para realizar el bucle y la suma de los dígitos por medio de una variable temporal \"y\":\n",
        "for y in lst:\n",
        "    suma += y\n",
        "    \n",
        "    # Se comprueba si se ha alcanzado el valor objetivo:\n",
        "    if suma >= n_obj:\n",
        "        #En caso de que se alcance, se imprime el resultado y se rompe el ciclo:\n",
        "        print(\"Se alcanzó el valor objetivo ingresado, el cual es \", n_obj, \" en la \", itr, \"iteración.\")\n",
        "        break\n",
        "    \n",
        "    # Se sube la iteración para que llegue hasta el último número que cumple los requisitos:\n",
        "    itr += 1\n",
        "\n",
        "# Por otro lado, si no se alcanzó el valor objetivo, se le informa al usuario:\n",
        "if suma < n_obj:\n",
        "    print(\"No se alcanzó el valor objetivo de \", n_obj)\n",
        "\n",
        "\n"
      ],
      "metadata": {
        "colab": {
          "base_uri": "https://localhost:8080/"
        },
        "id": "zm0MKMHAcgbw",
        "outputId": "77afdc28-00ec-4954-97c6-73c983cdb108"
      },
      "id": "zm0MKMHAcgbw",
      "execution_count": 12,
      "outputs": [
        {
          "output_type": "stream",
          "name": "stdout",
          "text": [
            "Por favor ingrese un número: 1897358937125\n",
            "Ingrese el valor objetivo que desee: 23\n",
            "Se alcanzó el valor objetivo ingresado, el cual es   23  en la  4 iteración.\n"
          ]
        }
      ]
    },
    {
      "cell_type": "markdown",
      "id": "0b532b9b",
      "metadata": {
        "id": "0b532b9b"
      },
      "source": [
        "4### Problema 3: Dígito Mayor (40xp)\n",
        "\n",
        "Indique el dígito de mayor valor y su posición en un número ingresado por el usuario. En caso de que el dígito mayor se repita, se debe retornar el índice del primero de ellos que fue encontrado. \n",
        "\n",
        "**Ejemplo:**\n",
        "\n",
        "```\n",
        "Ingrese número: 123753569054\n",
        "El dígito mayor de la lista es 9\n",
        "El número se encontró en la posición 8\n",
        "```\n",
        "\n",
        "**Recomendación:** pruebe su algoritmo con listas de prueba:\n",
        "- `lst`: lista que representa el número a evaluar. Por ejemplo: dígitos del número de su documento de identidad\n",
        "\n",
        "**Nota:** para leer un número ingresado por el usuario y convertirlo en lista puede utilizar las siguientes instrucciones:\n",
        "\n",
        "```python\n",
        "num = input('Número: ')\n",
        "lst = [int(x) for x in num]\n",
        "```"
      ]
    },
    {
      "cell_type": "code",
      "execution_count": null,
      "id": "9159f388",
      "metadata": {
        "scrolled": true,
        "id": "9159f388",
        "colab": {
          "base_uri": "https://localhost:8080/"
        },
        "outputId": "74911280-b5ae-48fe-bd26-abc1ae7846cd"
      },
      "outputs": [
        {
          "output_type": "stream",
          "name": "stdout",
          "text": [
            "Por favor ingresa un número: 34934398472\n",
            "El dígito de mayor valor de la lista es: 9 y la posición que este ocupa en la lista es: 2\n"
          ]
        }
      ],
      "source": [
        "#Se comienza solicitando al usuario ingresar el número:\n",
        "num = input(\"Por favor ingresa un número: \")\n",
        "lst = [int(x) for x in num]\n",
        "#Se inicializa el valor de la posición en 0:\n",
        "posición = 0 \n",
        "#Así mismo se inicializa el valor máximo con el primer elemento perteneciente a la lista:\n",
        "valor_máximo = lst[0] \n",
        "\n",
        "#Se utiliza el comando for para conocer el valor máximo, comenzando desde el primer índice de la lista hasta el último:\n",
        "for y in range(1, len(lst)):\n",
        "    if lst[y] > valor_máximo:\n",
        "        valor_máximo = lst[y]\n",
        "        posición = y\n",
        "#Finalmente se imprime el resultado:\n",
        "print(\"El dígito de mayor valor de la lista es:\", valor_máximo, \"y la posición que este ocupa en la lista es:\", posición,)\n"
      ]
    },
    {
      "cell_type": "markdown",
      "id": "03af9108",
      "metadata": {
        "id": "03af9108"
      },
      "source": [
        "### Problema 4: Valores que coinciden (50xp)\n",
        "\n",
        "Indique las posiciones (índices) en los cuales se encuentran los mismos valores de los dígitos en dos números ingresados por el usuario. El algoritmo debe verificar que los números tengan la misma longitud (igual número de dígitos). Si ninguno de los dígitos de los números coincide, también debe informarlo al usuario. \n",
        "\n",
        "**Ejemplo:**\n",
        "\n",
        "```\n",
        "Ingrese el primer número: 124646272\n",
        "Ingrese el segundo número: 354849136\n",
        "Los números tienen 2 dígitos(s) en común en la(s) posición(es): [2, 4]\n",
        "```\n",
        "\n",
        "**Recomendación:** pruebe su algoritmo con listas de prueba:\n",
        "- `lst_1`: lista que representa el primer número. \n",
        "- `lst_2`: lista que representa el segundo número. \n",
        "\n",
        "**Nota:** para leer un número ingresado por el usuario y convertirlo en lista puede utilizar las siguientes instrucciones:\n",
        "\n",
        "```python\n",
        "num = input('Número: ')\n",
        "lst = [int(x) for x in num]\n",
        "```"
      ]
    },
    {
      "cell_type": "code",
      "execution_count": null,
      "id": "85469377",
      "metadata": {
        "id": "85469377",
        "colab": {
          "base_uri": "https://localhost:8080/"
        },
        "outputId": "2bf043fa-12f5-4a7d-f019-24ef5357ab0d"
      },
      "outputs": [
        {
          "output_type": "stream",
          "name": "stdout",
          "text": [
            "Número: 12345\n",
            "[1, 2, 3, 4, 5]\n",
            "Número: 16745\n",
            "[1, 6, 7, 4, 5]\n",
            "Coincide en los índices: [0, 3, 4]\n"
          ]
        }
      ],
      "source": [
        "#Se le solicita al usuario asignar los 2 números:\n",
        "num = input('Número: ')\n",
        "lst = [int(x) for x in num]\n",
        "print(lst)\n",
        "num2 = input('Número: ')\n",
        "lst2 = [int(x) for x in num2]\n",
        "print(lst2)\n",
        "#Se condiciona a que los números deben tener la misma longitud:\n",
        "if len(lst) != len(lst2):\n",
        "    print(\"Los números que usted ha ingresado deben de tener la misma longitud, por favor intente de nuevo.\")\n",
        "else:\n",
        "  digitos_iguales = [int(y) for y in num]\n",
        "  digitos_iguales2= [int(y) for y in num2]\n",
        "#Se crea una lista para añadir las coincidencias que se encuentren en los índices:\n",
        "  valores_iguales = []\n",
        "#Se define si existen números en dígitos iguales y se añaden a la lista creada anteriormente:\n",
        "  for m in range(len(digitos_iguales)):\n",
        "    if digitos_iguales[m] == digitos_iguales2[m]:\n",
        "            valores_iguales.append(m)\n",
        "#Finalmente,se condiciona si existen o no valores que coincidan en los mismos índices:\n",
        "  if valores_iguales == 0:\n",
        "    print(\"No hubo coindicencias\")\n",
        "  else:\n",
        "    print(\"Coincide en los índices:\", valores_iguales)\n",
        "\n",
        "\n"
      ]
    }
  ],
  "metadata": {
    "kernelspec": {
      "display_name": "Python 3 (ipykernel)",
      "language": "python",
      "name": "python3"
    },
    "language_info": {
      "codemirror_mode": {
        "name": "ipython",
        "version": 3
      },
      "file_extension": ".py",
      "mimetype": "text/x-python",
      "name": "python",
      "nbconvert_exporter": "python",
      "pygments_lexer": "ipython3",
      "version": "3.10.6"
    },
    "colab": {
      "provenance": [],
      "include_colab_link": true
    }
  },
  "nbformat": 4,
  "nbformat_minor": 5
}